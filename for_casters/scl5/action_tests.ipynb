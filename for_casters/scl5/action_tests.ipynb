{
 "cells": [
  {
   "cell_type": "code",
   "execution_count": 1,
   "metadata": {
    "jupyter": {
     "source_hidden": true
    }
   },
   "outputs": [],
   "source": [
    "%load_ext autoreload\n",
    "%autoreload 2"
   ]
  },
  {
   "cell_type": "code",
   "execution_count": 2,
   "metadata": {
    "jupyter": {
     "source_hidden": true
    }
   },
   "outputs": [],
   "source": [
    "from pathlib import Path\n",
    "import sys\n",
    "project_path = str(Path().joinpath('..', '..', 'triple_agent').resolve())\n",
    "sys.path.append(project_path)\n",
    "parent_path = str(Path().joinpath('..', '..').resolve())\n",
    "sys.path.append(parent_path)"
   ]
  },
  {
   "cell_type": "code",
   "execution_count": 3,
   "metadata": {
    "jupyter": {
     "source_hidden": true
    }
   },
   "outputs": [],
   "source": [
    "from triple_agent.replays.get_parsed_replays import get_parsed_replays\n",
    "from triple_agent.utilities.event_constants import select_scl5_with_drops\n",
    "from triple_agent.reports.action_tests import _at_rates_excluding_difficults\n",
    "from triple_agent.reports.plot_utilities import create_data_dictionaries, tableize_data_dict\n",
    "from triple_agent.utilities.action_tests import ActionTest\n",
    "from tabulate import tabulate"
   ]
  },
  {
   "cell_type": "code",
   "execution_count": null,
   "metadata": {
    "jupyter": {
     "source_hidden": true
    }
   },
   "outputs": [],
   "source": [
    "#scl5_replays = get_parsed_replays(select_scl5_with_drops)"
   ]
  },
  {
   "cell_type": "markdown",
   "metadata": {},
   "source": [
    "This report includes data from all available SCL5 regular season games, including games with dropped players."
   ]
  },
  {
   "cell_type": "code",
   "execution_count": 4,
   "metadata": {},
   "outputs": [],
   "source": [
    "games = get_parsed_replays(lambda x: x.spy in ['Calvin Schoolidge', 'Max Edward Snax'] and x.event == 'SCL5' and x.sniper in ['Calvin Schoolidge', 'Max Edward Snax'])"
   ]
  },
  {
   "cell_type": "code",
   "execution_count": 6,
   "metadata": {},
   "outputs": [
    {
     "data": {
      "text/plain": [
       "['8uf6pUK7TFegBD8Cbr2qMw',\n",
       " 'as-RnR1RQruzhRDZr7JP9A',\n",
       " 'h_fNkizcR0mBFlokph3yEw',\n",
       " 'jhx6e7UpTmeKueggeGcAKg',\n",
       " 'k415gCwtS3ml9_EzUPpWFw',\n",
       " 'k8x3n_zfTtiw9FSS6rM13w',\n",
       " 'lOGf7W_MSlu1RRYxW2MMsA',\n",
       " 'OiG7qvC9QOaSKVGlesdpWQ',\n",
       " 'TPWiwN2aQc6EHEf6jKDKaA',\n",
       " 'UgPZ7k1cQoCT9c6a_oG46w',\n",
       " 'vgAlD77AQw2XKTZq3H4NTg']"
      ]
     },
     "execution_count": 6,
     "metadata": {},
     "output_type": "execute_result"
    }
   ],
   "source": [
    "[g.uuid for g in games]"
   ]
  },
  {
   "cell_type": "code",
   "execution_count": 15,
   "metadata": {},
   "outputs": [
    {
     "data": {
      "text/plain": [
       "[None, None, None, None, None, None, None, None, None, None, None]"
      ]
     },
     "execution_count": 15,
     "metadata": {},
     "output_type": "execute_result"
    }
   ],
   "source": [
    "[g.repickle() for g in games]"
   ]
  },
  {
   "cell_type": "code",
   "execution_count": 12,
   "metadata": {},
   "outputs": [
    {
     "name": "stdout",
     "output_type": "stream",
     "text": [
      "Balcony action test green: seduce target\n",
      "Balcony action test green: contact double agent\n",
      "Balcony action test white: seduce target\n",
      "Balcony action test ignored: seduce target\n",
      "Ballroom action test green: seduce target\n",
      "Ballroom action test white: seduce target\n",
      "Ballroom action test white: seduce target\n",
      "Ballroom action test white: swap statue\n",
      "Terrace action test green: seduce target\n",
      "Terrace action test white: contact double agent\n",
      "Terrace action test red: seduce target\n",
      "Terrace action test white: contact double agent\n",
      "Terrace action test white: seduce target\n",
      "Terrace action test white: seduce target\n",
      "Balcony action test white: seduce target\n",
      "Balcony action test green: seduce target\n",
      "Balcony action test white: contact double agent\n",
      "Balcony action test green: contact double agent\n",
      "Balcony action test green: seduce target\n",
      "Balcony action test white: seduce target\n",
      "Balcony action test white: seduce target\n",
      "Gallery action test white: seduce target\n",
      "Gallery action test white: seduce target\n",
      "Gallery action test green: inspect statues\n",
      "Gallery action test white: inspect statues\n",
      "Gallery action test white: contact double agent\n",
      "Gallery action test canceled: seduce target\n",
      "Gallery action test white: seduce target\n",
      "Gallery action test white: seduce target\n",
      "Gallery action test green: seduce target\n",
      "Gallery action test white: inspect statues\n",
      "Gallery action test white: inspect statues\n",
      "Gallery action test white: seduce target\n",
      "Gallery action test green: contact double agent\n",
      "Gallery action test ignored: seduce target\n",
      "Gallery action test white: inspect statues\n",
      "Gallery action test white: seduce target\n",
      "Gallery action test white: seduce target\n",
      "Gallery action test white: seduce target\n",
      "Gallery action test white: inspect statues\n",
      "Gallery action test green: inspect statues\n",
      "Gallery action test red: fingerprint ambassador\n",
      "Gallery action test white: contact double agent\n",
      "Terrace action test white: seduce target\n",
      "Terrace action test white: contact double agent\n",
      "Terrace action test white: seduce target\n",
      "Terrace action test green: seduce target\n",
      "Balcony action test white: seduce target\n",
      "Balcony action test white: contact double agent\n",
      "Balcony action test green: seduce target\n",
      "Gallery action test green: seduce target\n",
      "Gallery action test white: check watch\n",
      "Gallery action test white: seduce target\n"
     ]
    }
   ],
   "source": [
    "for g in games:\n",
    "    for e in g.timeline:\n",
    "        if 'action test' in e.event:\n",
    "            print(g.venue, e.event)"
   ]
  },
  {
   "cell_type": "code",
   "execution_count": null,
   "metadata": {},
   "outputs": [],
   "source": [
    "data_dict, data_dict_percent = create_data_dictionaries(\n",
    "    scl5_replays,\n",
    "    _at_rates_excluding_difficults,\n",
    "    lambda game: game.spy\n",
    ")"
   ]
  },
  {
   "cell_type": "code",
   "execution_count": null,
   "metadata": {},
   "outputs": [],
   "source": [
    "data_table, headers = tableize_data_dict(\n",
    "    data_dict_percent,\n",
    "    ActionTest,\n",
    "    title='Action Test %',\n",
    "    excluded_header_values=[ActionTest.NoAT]\n",
    ")"
   ]
  },
  {
   "cell_type": "code",
   "execution_count": null,
   "metadata": {},
   "outputs": [],
   "source": [
    "print(tabulate(data_table, headers, floatfmt=\"2.1%\", tablefmt=\"psql\"))"
   ]
  }
 ],
 "metadata": {
  "kernelspec": {
   "display_name": "Python 3",
   "language": "python",
   "name": "python3"
  },
  "language_info": {
   "codemirror_mode": {
    "name": "ipython",
    "version": 3
   },
   "file_extension": ".py",
   "mimetype": "text/x-python",
   "name": "python",
   "nbconvert_exporter": "python",
   "pygments_lexer": "ipython3",
   "version": "3.7.3"
  }
 },
 "nbformat": 4,
 "nbformat_minor": 2
}
