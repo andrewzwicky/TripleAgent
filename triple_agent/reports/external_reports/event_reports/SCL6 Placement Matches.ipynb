{
 "cells": [
  {
   "cell_type": "code",
   "execution_count": 1,
   "metadata": {},
   "outputs": [],
   "source": [
    "%load_ext autoreload\n",
    "%autoreload 2"
   ]
  },
  {
   "cell_type": "code",
   "execution_count": 2,
   "metadata": {},
   "outputs": [],
   "source": [
    "from pathlib import Path\n",
    "import sys\n",
    "parent_path = str(Path().joinpath('..\\..\\..\\..').resolve())\n",
    "sys.path.append(parent_path)"
   ]
  },
  {
   "cell_type": "code",
   "execution_count": 3,
   "metadata": {},
   "outputs": [],
   "source": [
    "from triple_agent.parsing.replay.get_parsed_replays import get_parsed_replays\n",
    "from triple_agent.constants.events import select_scl6_placements"
   ]
  },
  {
   "cell_type": "code",
   "execution_count": 4,
   "metadata": {},
   "outputs": [],
   "source": [
    "replays = get_parsed_replays(select_scl6_placements)"
   ]
  },
  {
   "cell_type": "code",
   "execution_count": 5,
   "metadata": {},
   "outputs": [
    {
     "data": {
      "text/plain": [
       "{('Banana Bread/steam', 'the_usual_toaster/steam'),\n",
       " ('Beanie/steam', 'Yglini/steam'),\n",
       " ('Beanie/steam', 'portalfreek'),\n",
       " ('Con-pope/steam', 'mrtwister'),\n",
       " ('Gabrio/steam', 'Tonyl/steam'),\n",
       " ('Harren/steam', 'monopolyman'),\n",
       " ('KumaKid/steam', 'sgnurf'),\n",
       " ('Max Edward Snax/steam', 'beanie'),\n",
       " ('catnip', 'magicdoer1'),\n",
       " ('catnip', 'zerodoom'),\n",
       " ('dbdkmezz', 'dejoker'),\n",
       " ('dejoker', 'monaters'),\n",
       " ('furbyfubar', 'miniorek'),\n",
       " ('howiie', 'sykosloth'),\n",
       " ('lauras43/steam', 'zerodoom'),\n",
       " ('sgnurf', 'spedmonkey')}"
      ]
     },
     "execution_count": 5,
     "metadata": {},
     "output_type": "execute_result"
    }
   ],
   "source": [
    "set(tuple(sorted((r.spy, r.sniper))) for r in replays)"
   ]
  }
 ],
 "metadata": {
  "kernelspec": {
   "display_name": "Python 3",
   "language": "python",
   "name": "python3"
  },
  "language_info": {
   "codemirror_mode": {
    "name": "ipython",
    "version": 3
   },
   "file_extension": ".py",
   "mimetype": "text/x-python",
   "name": "python",
   "nbconvert_exporter": "python",
   "pygments_lexer": "ipython3",
   "version": "3.7.5"
  }
 },
 "nbformat": 4,
 "nbformat_minor": 4
}
