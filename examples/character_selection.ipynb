{
 "cells": [
  {
   "cell_type": "code",
   "execution_count": 1,
   "metadata": {
    "jupyter": {
     "source_hidden": true
    }
   },
   "outputs": [],
   "source": [
    "%load_ext autoreload\n",
    "%autoreload 2"
   ]
  },
  {
   "cell_type": "code",
   "execution_count": 2,
   "metadata": {
    "jupyter": {
     "source_hidden": true
    }
   },
   "outputs": [],
   "source": [
    "from pathlib import Path\n",
    "import sys\n",
    "parent_path = str(Path().joinpath('..').resolve())\n",
    "sys.path.append(parent_path)"
   ]
  },
  {
   "cell_type": "code",
   "execution_count": 3,
   "metadata": {
    "jupyter": {
     "source_hidden": true
    }
   },
   "outputs": [],
   "source": [
    "from triple_agent.parsing.replay.get_parsed_replays import get_parsed_replays\n",
    "from triple_agent.constants.events import SCL5_DROPPED_PLAYERS, select_scl5_regular_season\n",
    "from triple_agent.reports.specific.character_selection import (spy_selection,\n",
    "                                                      st_selection,\n",
    "                                                      amba_selection,\n",
    "                                                      double_agent_selection,\n",
    "                                                      determine_character_in_role)\n",
    "from triple_agent.reports.specific.game_outcomes import game_outcomes\n",
    "from triple_agent.classes.roles import Roles\n",
    "from triple_agent.classes.outcomes import WinType\n",
    "from triple_agent.reports.generation.common_sort_functions import sort_by_spy_wins\n",
    "from triple_agent.reports.generation.plot_specs import AxisProperties, DataQueryProperties"
   ]
  },
  {
   "cell_type": "code",
   "execution_count": 4,
   "metadata": {
    "jupyter": {
     "source_hidden": true
    }
   },
   "outputs": [],
   "source": [
    "scl5_replays = get_parsed_replays(select_scl5_regular_season)"
   ]
  },
  {
   "cell_type": "code",
   "execution_count": 5,
   "metadata": {},
   "outputs": [],
   "source": [
    "%%capture\n",
    "_=game_outcomes(\n",
    "    scl5_replays,\n",
    "    axis_properties = AxisProperties(\n",
    "        title=\"SCL5 Game Outcomes by Spy Character\",\n",
    "        x_axis_portrait=True,\n",
    "        y_axis_label=\"Game Count\",\n",
    "        x_axis_label=\"Spy Character\",\n",
    "        savefig='example_pictures/scl5_spy_selection.png'\n",
    "    ),\n",
    "    data_query = DataQueryProperties(\n",
    "        groupby=lambda g: determine_character_in_role(g, Roles.Spy),\n",
    "        secondary_order=sum,\n",
    "    )\n",
    ")"
   ]
  },
  {
   "cell_type": "markdown",
   "metadata": {},
   "source": [
    "![image](example_pictures/scl5_spy_selection.png)"
   ]
  },
  {
   "cell_type": "code",
   "execution_count": 6,
   "metadata": {},
   "outputs": [],
   "source": [
    "%%capture\n",
    "_=game_outcomes(\n",
    "    scl5_replays,\n",
    "    axis_properties = AxisProperties(\n",
    "        title=\"SCL5 Game Outcomes by Spy Character\",\n",
    "        x_axis_portrait=True,\n",
    "        y_axis_label=\"% of Games as Each Character\",\n",
    "        x_axis_label=\"Spy Character\",\n",
    "        savefig='example_pictures/scl5_spy_selection_norm.png'\n",
    "    ),\n",
    "    data_query = DataQueryProperties(\n",
    "        groupby=lambda g: determine_character_in_role(g, Roles.Spy),\n",
    "        secondary_order=sort_by_spy_wins,\n",
    "        percent_normalized_data=True\n",
    "    )\n",
    ")"
   ]
  },
  {
   "cell_type": "markdown",
   "metadata": {},
   "source": [
    "![image](example_pictures/scl5_spy_selection_norm.png)"
   ]
  },
  {
   "cell_type": "code",
   "execution_count": 7,
   "metadata": {},
   "outputs": [],
   "source": [
    "%%capture\n",
    "_=st_selection(\n",
    "    scl5_replays,\n",
    "    axis_properties = AxisProperties(\n",
    "        title=\"SCL5 Seduction Target Selection\",\n",
    "        x_axis_portrait=True,\n",
    "        y_axis_label=\"Game Count\",\n",
    "        x_axis_label=\"Chosen Seduction Target\",\n",
    "        savefig='example_pictures/scl5_st_selection.png'\n",
    "    ),\n",
    "    data_query = DataQueryProperties(\n",
    "        primary_order=sum,\n",
    "    )\n",
    ")"
   ]
  },
  {
   "cell_type": "markdown",
   "metadata": {},
   "source": [
    "![image](example_pictures/scl5_st_selection.png)"
   ]
  },
  {
   "cell_type": "code",
   "execution_count": 8,
   "metadata": {},
   "outputs": [],
   "source": [
    "%%capture\n",
    "_=amba_selection(\n",
    "    scl5_replays,\n",
    "    axis_properties = AxisProperties(\n",
    "        title=\"SCL5 Ambassador Selection\",\n",
    "        x_axis_portrait=True,\n",
    "        y_axis_label=\"Game Count\",\n",
    "        x_axis_label=\"Chosen Ambassador\",\n",
    "        savefig='example_pictures/scl5_amba_selection.png'\n",
    "    ),\n",
    "    data_query = DataQueryProperties(\n",
    "        primary_order=sum,\n",
    "    )\n",
    ")"
   ]
  },
  {
   "cell_type": "markdown",
   "metadata": {},
   "source": [
    "![image](example_pictures/scl5_amba_selection.png)"
   ]
  },
  {
   "cell_type": "code",
   "execution_count": null,
   "metadata": {},
   "outputs": [],
   "source": []
  }
 ],
 "metadata": {
  "kernelspec": {
   "display_name": "Python 3",
   "language": "python",
   "name": "python3"
  },
  "language_info": {
   "codemirror_mode": {
    "name": "ipython",
    "version": 3
   },
   "file_extension": ".py",
   "mimetype": "text/x-python",
   "name": "python",
   "nbconvert_exporter": "python",
   "pygments_lexer": "ipython3",
   "version": "3.7.5"
  }
 },
 "nbformat": 4,
 "nbformat_minor": 2
}
