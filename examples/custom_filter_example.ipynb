{
 "cells": [
  {
   "cell_type": "code",
   "execution_count": 1,
   "metadata": {},
   "outputs": [],
   "source": [
    "%load_ext autoreload\n",
    "%autoreload 2"
   ]
  },
  {
   "cell_type": "code",
   "execution_count": 2,
   "metadata": {},
   "outputs": [],
   "source": [
    "from pathlib import Path\n",
    "import sys\n",
    "parent_path = str(Path().joinpath('..').resolve())\n",
    "sys.path.append(parent_path)"
   ]
  },
  {
   "cell_type": "code",
   "execution_count": 3,
   "metadata": {},
   "outputs": [],
   "source": [
    "from triple_agent.parsing.replay.get_parsed_replays import get_parsed_replays\n",
    "from triple_agent.reports.generation.plot_specs import AxisProperties, DataQueryProperties\n",
    "from triple_agent.reports.specific.game_outcomes import game_outcomes"
   ]
  },
  {
   "cell_type": "markdown",
   "metadata": {},
   "source": [
    "There are many existing reports available (all are shown off in the [examples](../tree/master/examples) folder).  However, as a general rule, the reports in the examples folders are run against all the games in SCL5.  It's possible to provide a more narrow filter as well.\n",
    "\n",
    "`get_parsed_replays` is the method that returns `Game` objects.  All parsed games that have added to the repository are available to this search.  See [[Available Parsed Replays]] for more information.\n",
    "\n",
    "The argument to `get_parsed_replays` is a function.  This function takes one argument, an instance of [`Game`](../tree/master/triple_agent/utilities/game.py), and returns `True` or `False`.  Each game instance that the filter function returns `True` is included in the final list, and instances that return `False` are excluded.\n",
    "\n",
    "For example, the included `select_scl5_regular_season` function looks like this:\n",
    "\n",
    "```python\n",
    "def select_scl5_regular_season(game):\n",
    "    return (\n",
    "        game.event == \"SCL5\"\n",
    "        and game.spy not in SCL5_DROPPED_PLAYERS\n",
    "        and game.sniper not in SCL5_DROPPED_PLAYERS\n",
    "    )\n",
    "```\n",
    "\n",
    "If I wanted to instead return only games on Veranda that lasted fewer than 1 minute, I could use this filter function instead.\n",
    "\n",
    "`short_veranda_games` can now be used in any of the pre-defined reports to analyze game data!"
   ]
  },
  {
   "cell_type": "code",
   "execution_count": 4,
   "metadata": {},
   "outputs": [],
   "source": [
    "def select_short_veranda(game):\n",
    "    return game.venue == \"Veranda\" and game.duration < 120"
   ]
  },
  {
   "cell_type": "code",
   "execution_count": 5,
   "metadata": {},
   "outputs": [],
   "source": [
    "short_veranda_games = get_parsed_replays(select_short_veranda)"
   ]
  },
  {
   "cell_type": "code",
   "execution_count": 6,
   "metadata": {},
   "outputs": [
    {
     "data": {
      "image/png": "[encoded data removed]",
      "text/plain": [
       "<Figure size 576x576 with 1 Axes>"
      ]
     },
     "metadata": {},
     "output_type": "display_data"
    }
   ],
   "source": [
    "_=game_outcomes(\n",
    "    short_veranda_games,\n",
    "    axis_properties=AxisProperties(title=\"Short Veranda Game Outcomes\"))"
   ]
  },
  {
   "cell_type": "code",
   "execution_count": 7,
   "metadata": {},
   "outputs": [],
   "source": [
    "def select_long_veranda(game):\n",
    "    return game.venue == \"Veranda\" and game.duration >= 120"
   ]
  },
  {
   "cell_type": "code",
   "execution_count": 8,
   "metadata": {},
   "outputs": [],
   "source": [
    "long_veranda_games = get_parsed_replays(select_long_veranda)"
   ]
  },
  {
   "cell_type": "code",
   "execution_count": 9,
   "metadata": {},
   "outputs": [
    {
     "data": {
      "image/png": "[encoded data removed]",
      "text/plain": [
       "<Figure size 576x576 with 1 Axes>"
      ]
     },
     "metadata": {},
     "output_type": "display_data"
    }
   ],
   "source": [
    "_=game_outcomes(\n",
    "    long_veranda_games,\n",
    "    axis_properties=AxisProperties(title=\"Short Veranda Game Outcomes\"))"
   ]
  }
 ],
 "metadata": {
  "kernelspec": {
   "display_name": "Python 3",
   "language": "python",
   "name": "python3"
  },
  "language_info": {
   "codemirror_mode": {
    "name": "ipython",
    "version": 3
   },
   "file_extension": ".py",
   "mimetype": "text/x-python",
   "name": "python",
   "nbconvert_exporter": "python",
   "pygments_lexer": "ipython3",
   "version": "3.7.5"
  }
 },
 "nbformat": 4,
 "nbformat_minor": 2
}
